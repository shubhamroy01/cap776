{
 "cells": [
  {
   "cell_type": "code",
   "execution_count": 1,
   "id": "1a20fd7a",
   "metadata": {},
   "outputs": [
    {
     "name": "stdout",
     "output_type": "stream",
     "text": [
      "hello\n"
     ]
    }
   ],
   "source": [
    "# Creating a function without any parameters\n",
    "def display():\n",
    "    print(\"hello\")\n",
    "# calling function using function name\n",
    "display()"
   ]
  },
  {
   "cell_type": "code",
   "execution_count": 2,
   "id": "dfc5b9dc",
   "metadata": {},
   "outputs": [
    {
     "name": "stdout",
     "output_type": "stream",
     "text": [
      "5\n"
     ]
    }
   ],
   "source": [
    "#Creating a function with parameters\n",
    "def add(a,b):\n",
    "    c=a+b\n",
    "    print(c)\n",
    "# calling function using function name and arguments\n",
    "add(2,3)"
   ]
  },
  {
   "cell_type": "code",
   "execution_count": 4,
   "id": "e51bbe73",
   "metadata": {},
   "outputs": [
    {
     "name": "stdout",
     "output_type": "stream",
     "text": [
      "11\n"
     ]
    }
   ],
   "source": [
    "# Creating a function with parameters and return value\n",
    "def add(a,b):\n",
    "    c=a+b\n",
    "    return c\n",
    "# calling function using function name and arguments with returning values\n",
    "result=add(5,6)\n",
    "print(result)"
   ]
  },
  {
   "cell_type": "code",
   "execution_count": 7,
   "id": "dc56387a",
   "metadata": {},
   "outputs": [
    {
     "name": "stdout",
     "output_type": "stream",
     "text": [
      "Section:D2110 Reg.No.:11203456 Student Name:Rohan\n"
     ]
    }
   ],
   "source": [
    "# Creating a function with default argument\n",
    "def getStudentDetails(regno,name,section='D2110'):\n",
    "    print(\"Section:{} Reg.No.:{} Student Name:{}\".format(section,regno,name))\n",
    "# calling function\n",
    "getStudentDetails(11203456,'Rohan')"
   ]
  },
  {
   "cell_type": "code",
   "execution_count": 9,
   "id": "11dd3b36",
   "metadata": {},
   "outputs": [
    {
     "name": "stdout",
     "output_type": "stream",
     "text": [
      "3\n",
      "15\n",
      "55\n"
     ]
    }
   ],
   "source": [
    "# Creating a function with variable length arguments\n",
    "\n",
    "def sumOfnos(*values):\n",
    "    sum=0\n",
    "    for i in values:\n",
    "        sum=sum+i\n",
    "    print(sum)\n",
    "\n",
    "sumOfnos(1,2)# function with 2 argument\n",
    "sumOfnos(1,2,3,4,5) # function with 5 arguments\n",
    "sumOfnos(1,2,3,4,5,6,7,8,9,10)# function with 10 arguments"
   ]
  },
  {
   "cell_type": "code",
   "execution_count": 10,
   "id": "14769eb7",
   "metadata": {},
   "outputs": [
    {
     "name": "stdout",
     "output_type": "stream",
     "text": [
      "Addition:  12\n",
      "Subtraction:  8\n",
      "Multiplication:  20\n",
      "Division:  5.0\n"
     ]
    }
   ],
   "source": [
    "# Creating a function with multiple return values\n",
    "def arithmetic(num1, num2):\n",
    "    add = num1 + num2\n",
    "    sub = num1 - num2\n",
    "    multiply = num1 * num2\n",
    "    division = num1 / num2\n",
    "    # return four values\n",
    "    return add, sub, multiply, division\n",
    "\n",
    "# read four return values in four variables\n",
    "a, b, c, d = arithmetic(10, 2)\n",
    "\n",
    "print(\"Addition: \", a)\n",
    "print(\"Subtraction: \", b)\n",
    "print(\"Multiplication: \", c)\n",
    "print(\"Division: \", d) "
   ]
  },
  {
   "cell_type": "code",
   "execution_count": 12,
   "id": "b36c84fd",
   "metadata": {},
   "outputs": [
    {
     "name": "stdout",
     "output_type": "stream",
     "text": [
      "10 20\n"
     ]
    }
   ],
   "source": [
    "x=10 # global variable\n",
    "def disp():\n",
    "    y=20 # local variable\n",
    "    print(x,y)\n",
    "disp()"
   ]
  },
  {
   "cell_type": "code",
   "execution_count": 13,
   "id": "f102fbb2",
   "metadata": {},
   "outputs": [
    {
     "name": "stdout",
     "output_type": "stream",
     "text": [
      "20\n"
     ]
    }
   ],
   "source": [
    "x=10 # global variable\n",
    "def disp():\n",
    "    x=20 # local variable same name\n",
    "    print(x)\n",
    "disp()"
   ]
  },
  {
   "cell_type": "code",
   "execution_count": 18,
   "id": "766aaba5",
   "metadata": {},
   "outputs": [
    {
     "name": "stdout",
     "output_type": "stream",
     "text": [
      "20\n",
      "20\n"
     ]
    }
   ],
   "source": [
    "x=10 # global variable\n",
    "def disp1():\n",
    "    global x #Modify global variable using global keyword\n",
    "    x=20\n",
    "    print(x)\n",
    "def disp2():\n",
    "    print(x)\n",
    "disp1()\n",
    "disp2()"
   ]
  },
  {
   "cell_type": "code",
   "execution_count": null,
   "id": "e92595cb",
   "metadata": {},
   "outputs": [],
   "source": []
  }
 ],
 "metadata": {
  "kernelspec": {
   "display_name": "Python 3 (ipykernel)",
   "language": "python",
   "name": "python3"
  },
  "language_info": {
   "codemirror_mode": {
    "name": "ipython",
    "version": 3
   },
   "file_extension": ".py",
   "mimetype": "text/x-python",
   "name": "python",
   "nbconvert_exporter": "python",
   "pygments_lexer": "ipython3",
   "version": "3.10.5"
  }
 },
 "nbformat": 4,
 "nbformat_minor": 5
}
