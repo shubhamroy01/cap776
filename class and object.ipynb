{
 "cells": [
  {
   "cell_type": "code",
   "execution_count": 14,
   "id": "96bc77b7",
   "metadata": {},
   "outputs": [
    {
     "name": "stdout",
     "output_type": "stream",
     "text": [
      "Employee Id:1234\n",
      "Employee Name:kumar\n"
     ]
    }
   ],
   "source": [
    "# class and object \n",
    "class employee:\n",
    "    eid=1234\n",
    "    ename='kumar'\n",
    "    def getDetails(self):\n",
    "        print(\"Employee Id:{}\".format(self.eid))\n",
    "        print(\"Employee Name:{}\".format(self.ename))\n",
    "e1=employee()\n",
    "e1.getDetails()"
   ]
  },
  {
   "cell_type": "code",
   "execution_count": 7,
   "id": "56746718",
   "metadata": {},
   "outputs": [
    {
     "name": "stdout",
     "output_type": "stream",
     "text": [
      "Reg No:1234\n",
      "Student Name:rohan\n",
      "rohan\n"
     ]
    }
   ],
   "source": [
    "# Constructor: default\n",
    "class student:\n",
    "    def __init__(self):\n",
    "        self.regno=1234\n",
    "        self.firstname='rohan'\n",
    "    def getData(self):\n",
    "        print(\"Reg No:{}\".format(self.regno))\n",
    "        print(\"Student Name:{}\".format(self.name))\n",
    "s1=student()\n",
    "s1.getData()\n",
    "print(getattr(s1, 'firstname'))  # class inbuilt functions"
   ]
  },
  {
   "cell_type": "code",
   "execution_count": 20,
   "id": "11e50b04",
   "metadata": {},
   "outputs": [
    {
     "name": "stdout",
     "output_type": "stream",
     "text": [
      "Reg No:22222\n",
      "Student Name:Mandeep Singh\n",
      "Rahul\n",
      "Reg No:22222\n",
      "Student Name:Rohan\n",
      "Rohan\n"
     ]
    }
   ],
   "source": [
    "# Constructor: parameterized\n",
    "class student:\n",
    "    def __init__(self,regno,name):\n",
    "        self.regno=regno\n",
    "        self.name=name\n",
    "          \n",
    "    def getData(self):\n",
    "        print(\"Reg No:{}\".format(self.regno))\n",
    "        print(\"Student Name:{}\".format(self.name))\n",
    "s1=student(22222,'Mandeep Singh')\n",
    "s1.getData()\n",
    "print(getattr(s1,'fullname','Rahul'))\n",
    "\n",
    "setattr(s1,'name','Rohan')\n",
    "s1.getData()\n",
    "delattr(s1, 'regno')\n",
    "print(s1.name)"
   ]
  },
  {
   "cell_type": "code",
   "execution_count": 9,
   "id": "46839e4c",
   "metadata": {},
   "outputs": [
    {
     "name": "stdout",
     "output_type": "stream",
     "text": [
      "Employee created.\n",
      "Destructor called, Employee deleted.\n"
     ]
    }
   ],
   "source": [
    "# destructor example\n",
    "class Employee:\n",
    "    def __init__(self):\n",
    "        print('Employee created.')\n",
    "    def __del__(self):\n",
    "        print('Destructor called, Employee deleted.')\n",
    "obj = Employee()\n",
    "del obj\n"
   ]
  },
  {
   "cell_type": "code",
   "execution_count": 3,
   "id": "9c0587cc",
   "metadata": {},
   "outputs": [
    {
     "name": "stdout",
     "output_type": "stream",
     "text": [
      "Employee Id:111\n",
      "Employee Name:Manu\n",
      "Employee Id:222\n",
      "Employee Name:Rahul\n"
     ]
    }
   ],
   "source": [
    "# parameterized constructor with default argument\n",
    "# to implement constructor overloading\n",
    "class employee:\n",
    "    eid=0\n",
    "    ename=\"name\"\n",
    "    def __init__(self,empid,name='Manu'):\n",
    "        self.eid=empid\n",
    "        self.ename=name\n",
    "    def getDetails(self):\n",
    "        print(\"Employee Id:{}\".format(self.eid))\n",
    "        print(\"Employee Name:{}\".format(self.ename))\n",
    "\n",
    "# Creating refrence for a class\n",
    "emp1=employee(111)\n",
    "emp1.getDetails()\n",
    "emp2=employee(222,'Rahul')\n",
    "emp2.getDetails()        "
   ]
  },
  {
   "cell_type": "code",
   "execution_count": 9,
   "id": "13922807",
   "metadata": {},
   "outputs": [
    {
     "name": "stdout",
     "output_type": "stream",
     "text": [
      "Model No.:HPT1101 Price:35000\n",
      "Model No.:HPT1101 Price:45000\n"
     ]
    }
   ],
   "source": [
    "# encapsulation feature implementation in Python\n",
    "class computer:\n",
    "    modelName=\"HPT1101\"\n",
    "    __price=35000\n",
    "    def setPrice(self,newPrice):\n",
    "        self.__price=newPrice\n",
    "    def getPrice(self):\n",
    "        return self.__price\n",
    "\n",
    "computerObj=computer()\n",
    "\n",
    "print(\"Model No.:{} Price:{}\".format(computerObj.modelName,computerObj.getPrice()))\n",
    "\n",
    "computerObj.setPrice(45000)\n",
    "print(\"Model No.:{} Price:{}\".format(computerObj.modelName,computerObj.getPrice()))\n",
    "\n",
    "        \n"
   ]
  },
  {
   "cell_type": "code",
   "execution_count": null,
   "id": "991f866b",
   "metadata": {},
   "outputs": [],
   "source": []
  }
 ],
 "metadata": {
  "kernelspec": {
   "display_name": "Python 3 (ipykernel)",
   "language": "python",
   "name": "python3"
  },
  "language_info": {
   "codemirror_mode": {
    "name": "ipython",
    "version": 3
   },
   "file_extension": ".py",
   "mimetype": "text/x-python",
   "name": "python",
   "nbconvert_exporter": "python",
   "pygments_lexer": "ipython3",
   "version": "3.10.5"
  }
 },
 "nbformat": 4,
 "nbformat_minor": 5
}
