{
 "cells": [
  {
   "cell_type": "code",
   "execution_count": 7,
   "id": "a9a3298c",
   "metadata": {},
   "outputs": [
    {
     "name": "stdout",
     "output_type": "stream",
     "text": [
      "2243722780144\n",
      "2243722785840\n",
      "2243722780144\n",
      "not equal\n"
     ]
    }
   ],
   "source": [
    "# identity is, is not\n",
    "name1='kumar'\n",
    "name2='vishal'\n",
    "name3='kumar'\n",
    "print(id(name1))\n",
    "print(id(name2))\n",
    "print(id(name3))\n",
    "if name1 is name2:\n",
    "    print(\"equal\")\n",
    "else:\n",
    "    print(\"not equal\")"
   ]
  },
  {
   "cell_type": "code",
   "execution_count": 25,
   "id": "04b187a8",
   "metadata": {},
   "outputs": [
    {
     "name": "stdout",
     "output_type": "stream",
     "text": [
      "2243751494512\n",
      "2243751494512\n"
     ]
    },
    {
     "data": {
      "text/plain": [
       "True"
      ]
     },
     "execution_count": 25,
     "metadata": {},
     "output_type": "execute_result"
    }
   ],
   "source": [
    "k=2\n",
    "x=12*'k'\n",
    "y=12*'k'\n",
    "z=25\n",
    "print(id(x))\n",
    "print(id(y))\n",
    "x is y"
   ]
  },
  {
   "cell_type": "code",
   "execution_count": 28,
   "id": "f4f74924",
   "metadata": {},
   "outputs": [
    {
     "name": "stdout",
     "output_type": "stream",
     "text": [
      "8\n"
     ]
    }
   ],
   "source": [
    "a=12\n",
    "b=25\n",
    "print(a&b) #Bitwise AND Operator"
   ]
  },
  {
   "cell_type": "code",
   "execution_count": 31,
   "id": "16219073",
   "metadata": {},
   "outputs": [
    {
     "data": {
      "text/plain": [
       "-9"
      ]
     },
     "execution_count": 31,
     "metadata": {},
     "output_type": "execute_result"
    }
   ],
   "source": [
    "a=8\n",
    "~a # Bitwise Not Operator"
   ]
  },
  {
   "cell_type": "code",
   "execution_count": 32,
   "id": "b6e80275",
   "metadata": {},
   "outputs": [
    {
     "data": {
      "text/plain": [
       "8"
      ]
     },
     "execution_count": 32,
     "metadata": {},
     "output_type": "execute_result"
    }
   ],
   "source": [
    "a=-9\n",
    "~a   # Bitwise Not Operator"
   ]
  },
  {
   "cell_type": "code",
   "execution_count": 1,
   "id": "4ecc7d48",
   "metadata": {},
   "outputs": [
    {
     "name": "stdout",
     "output_type": "stream",
     "text": [
      "40\n"
     ]
    }
   ],
   "source": [
    "a=10\n",
    "print(a<<2) # left shift Operator"
   ]
  },
  {
   "cell_type": "code",
   "execution_count": 2,
   "id": "3b99a768",
   "metadata": {},
   "outputs": [
    {
     "name": "stdout",
     "output_type": "stream",
     "text": [
      "5\n"
     ]
    }
   ],
   "source": [
    "print(a>>1) # Right shift Operator"
   ]
  },
  {
   "cell_type": "code",
   "execution_count": 3,
   "id": "23c58b68",
   "metadata": {},
   "outputs": [
    {
     "name": "stdout",
     "output_type": "stream",
     "text": [
      "15\n"
     ]
    }
   ],
   "source": [
    "a=10\n",
    "b=15\n",
    "print(a|b) # Bitwise OR Operator"
   ]
  }
 ],
 "metadata": {
  "kernelspec": {
   "display_name": "Python 3 (ipykernel)",
   "language": "python",
   "name": "python3"
  },
  "language_info": {
   "codemirror_mode": {
    "name": "ipython",
    "version": 3
   },
   "file_extension": ".py",
   "mimetype": "text/x-python",
   "name": "python",
   "nbconvert_exporter": "python",
   "pygments_lexer": "ipython3",
   "version": "3.10.5"
  }
 },
 "nbformat": 4,
 "nbformat_minor": 5
}
