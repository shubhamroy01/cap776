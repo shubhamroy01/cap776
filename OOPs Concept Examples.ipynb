{
 "cells": [
  {
   "cell_type": "code",
   "execution_count": 3,
   "id": "389a4a07",
   "metadata": {},
   "outputs": [
    {
     "name": "stdout",
     "output_type": "stream",
     "text": [
      "Employee Id:11002\n",
      "Employee Name:Mandeep Singh\n"
     ]
    }
   ],
   "source": [
    "# creating class\n",
    "class employee:\n",
    "    def __init__(self):\n",
    "        self.eid=11002\n",
    "        self.ename='Mandeep Singh'\n",
    "    def getDetails(self):\n",
    "        print(\"Employee Id:{}\".format(self.eid))\n",
    "        print(\"Employee Name:{}\".format(self.ename))\n",
    "\n",
    "# Creating refrence for a class\n",
    "emp=employee()\n",
    "emp.getDetails()\n",
    "        "
   ]
  },
  {
   "cell_type": "code",
   "execution_count": 10,
   "id": "81d42ca3",
   "metadata": {},
   "outputs": [
    {
     "name": "stdout",
     "output_type": "stream",
     "text": [
      "Enter first value1\n",
      "55\n",
      "Enter second value\n",
      "33\n",
      "sum of 55 and 33 is:88\n"
     ]
    }
   ],
   "source": [
    "# Creating a function with parameter and return value\n",
    "def add(a,b):\n",
    "    c=a+b\n",
    "    return c\n",
    "    \n",
    "value1=int(input(\"Enter first value1\\n\"))\n",
    "value2=int(input(\"Enter second value\\n\"))\n",
    "result=add(value1,value2)\n",
    "print(\"sum of {} and {} is:{}\".format(value1,value2,result))"
   ]
  },
  {
   "cell_type": "code",
   "execution_count": 11,
   "id": "e5ce6737",
   "metadata": {},
   "outputs": [
    {
     "name": "stdout",
     "output_type": "stream",
     "text": [
      "Section: D2110\n",
      "Reg No: 11213456\n",
      "Name: Nitesh\n"
     ]
    }
   ],
   "source": [
    "# Creating a function with default argument\n",
    "def getDetails(regno,name,section='D2110'):\n",
    "    print(\"Section:\",section)\n",
    "    print(\"Reg No:\",regno)\n",
    "    print(\"Name:\",name)\n",
    "# calling function\n",
    "getDetails(11213456,'Nitesh')"
   ]
  },
  {
   "cell_type": "code",
   "execution_count": 12,
   "id": "f9e6d9f7",
   "metadata": {},
   "outputs": [
    {
     "name": "stdout",
     "output_type": "stream",
     "text": [
      "30\n",
      "150\n"
     ]
    }
   ],
   "source": [
    "# Creating a function with variable length arguments\n",
    "def sum(*value):\n",
    "    result=0\n",
    "    for i in value:\n",
    "        result=result+i\n",
    "    print(result)\n",
    "sum(10,20)# 2 arguments\n",
    "sum(10,20,30,40,50) # 5 arguments"
   ]
  },
  {
   "cell_type": "code",
   "execution_count": 13,
   "id": "95a52665",
   "metadata": {},
   "outputs": [
    {
     "name": "stdout",
     "output_type": "stream",
     "text": [
      "add 15\n",
      "sub -5\n",
      "Mult 50\n",
      "Division 2.0\n"
     ]
    }
   ],
   "source": [
    "# Creating a function with multiple return values\n",
    "def calculate(a,b):\n",
    "    add=a+b\n",
    "    sub=b-a\n",
    "    mult=a*b\n",
    "    div=a/b\n",
    "    return add,sub,mult,div\n",
    "\n",
    "res1,res2,res3,res4=calculate(10,5)\n",
    "print(\"add\",res1)\n",
    "print(\"sub\",res2)\n",
    "print(\"Mult\",res3)\n",
    "print(\"Division\",res4)\n",
    "    "
   ]
  },
  {
   "cell_type": "code",
   "execution_count": 17,
   "id": "31de663d",
   "metadata": {},
   "outputs": [
    {
     "name": "stdout",
     "output_type": "stream",
     "text": [
      "20\n",
      "20\n"
     ]
    }
   ],
   "source": [
    "x=10\n",
    "def disp1():\n",
    "    global x\n",
    "    x=20\n",
    "    print(x)\n",
    "def disp2():\n",
    "    print(x)\n",
    "    \n",
    "disp1()\n",
    "disp2()"
   ]
  },
  {
   "cell_type": "code",
   "execution_count": 7,
   "id": "28433169",
   "metadata": {},
   "outputs": [
    {
     "name": "stdout",
     "output_type": "stream",
     "text": [
      "Employee Id:111\n",
      "Employee Name:kkk\n",
      "Employee Id:222\n",
      "Employee Name:Rahul\n"
     ]
    }
   ],
   "source": [
    "# creating class\n",
    "class employee:\n",
    "    eid=0\n",
    "    ename=\"name\"\n",
    "    def __init__(self,empid,name='kkk'):# parameterized constructor with default argument\n",
    "        self.eid=empid\n",
    "        self.ename=name\n",
    "    def getDetails(self):\n",
    "        print(\"Employee Id:{}\".format(self.eid))\n",
    "        print(\"Employee Name:{}\".format(self.ename))\n",
    "\n",
    "# Creating refrence for a class\n",
    "emp1=employee(111)\n",
    "emp1.getDetails()\n",
    "emp2=employee(222,'Rahul')\n",
    "emp2.getDetails()        "
   ]
  },
  {
   "cell_type": "code",
   "execution_count": 4,
   "id": "241344b6",
   "metadata": {},
   "outputs": [
    {
     "name": "stdout",
     "output_type": "stream",
     "text": [
      "Model No.:Redmi x2 Price:18000\n"
     ]
    }
   ],
   "source": [
    "class mobile:\n",
    "    __modelNo='Redmi x2'\n",
    "    __maxPrice=15000\n",
    "    __newPrice=0\n",
    "    def getPrice(self):\n",
    "        print(\"Model No.:{} Price:{}\".format(self.__modelNo,self.__newPrice))\n",
    "    def setPrice(self,price):\n",
    "        self.__newPrice=price\n",
    "        \n",
    "m1=mobile()\n",
    "#m1.__newPrice=18000\n",
    "m1.setPrice(18000)\n",
    "m1.getPrice()\n"
   ]
  },
  {
   "cell_type": "code",
   "execution_count": 4,
   "id": "ade5f3b3",
   "metadata": {},
   "outputs": [
    {
     "name": "stdout",
     "output_type": "stream",
     "text": [
      "27000\n",
      "28000\n"
     ]
    }
   ],
   "source": [
    "class faculty:\n",
    "    _salary=25000\n",
    "class science(faculty):\n",
    "    __scbonus=2000\n",
    "    def getScience(self):\n",
    "        return self._salary+self.__scbonus\n",
    "class management(science):\n",
    "    __mbbonus=3000\n",
    "    def getMba(self):\n",
    "        return self._salary+self.__mbbonus\n",
    "\n",
    "m1=management()\n",
    "print(m1.getScience())\n",
    "print(m1.getMba())\n",
    "\n",
    "    "
   ]
  },
  {
   "cell_type": "code",
   "execution_count": 7,
   "id": "1d222551",
   "metadata": {},
   "outputs": [
    {
     "name": "stdout",
     "output_type": "stream",
     "text": [
      "4.5\n",
      "5.5\n"
     ]
    }
   ],
   "source": [
    "class bank:\n",
    "    _rateofI=0.0\n",
    "class sbi(bank):\n",
    "    __sbiCode=\"sbi001\"\n",
    "    def getRateSbi(self):\n",
    "        self._rateofI=4.5\n",
    "        return self._rateofI\n",
    "class pnb(bank):\n",
    "    __pnbCode=\"pnb001\"\n",
    "    def getRatePnb(self):\n",
    "        self._rateofI=5.5\n",
    "        return self._rateofI\n",
    "s=sbi()\n",
    "print(s.getRateSbi())\n",
    "p=pnb()\n",
    "print(p.getRatePnb())"
   ]
  },
  {
   "cell_type": "code",
   "execution_count": 8,
   "id": "653e8ea9",
   "metadata": {},
   "outputs": [
    {
     "name": "stdout",
     "output_type": "stream",
     "text": [
      "Reg No.:123456 course:CAP776 Game:cricket\n"
     ]
    }
   ],
   "source": [
    "class academic:\n",
    "    _course=\"CAP776\"\n",
    "class sports:\n",
    "    _game=\"cricket\"\n",
    "class student(academic,sports):\n",
    "    __regno=123456\n",
    "    def getDetails(self):\n",
    "        print(\"Reg No.:{} course:{} Game:{}\".format(self.__regno,self._course,self._game))\n",
    "s1=student()\n",
    "s1.getDetails()"
   ]
  },
  {
   "cell_type": "code",
   "execution_count": 1,
   "id": "cc279076",
   "metadata": {},
   "outputs": [
    {
     "name": "stdout",
     "output_type": "stream",
     "text": [
      "Reg No:123456 Exam:MTE Project:UMS Status:Pass\n"
     ]
    }
   ],
   "source": [
    "# Example of Hybrid Inheritance\n",
    "class student:\n",
    "    _regno=123456\n",
    "class exam(student):\n",
    "    _eName=\"MTE\"\n",
    "class project:\n",
    "    _pName=\"UMS\"\n",
    "class result(exam,project):\n",
    "    __status=\"Pass\"\n",
    "    def getStatus(self):\n",
    "        print(\"Reg No:{} Exam:{} Project:{} Status:{}\".format(self._regno,self._eName,self._pName,self.__status))\n",
    "res=result()\n",
    "res.getStatus()"
   ]
  },
  {
   "cell_type": "code",
   "execution_count": 9,
   "id": "1a97d0a5",
   "metadata": {},
   "outputs": [
    {
     "name": "stdout",
     "output_type": "stream",
     "text": [
      "P2 class constructor\n"
     ]
    }
   ],
   "source": [
    "class p1:\n",
    "    def __init__(self):\n",
    "        print(\"P1 class constructor\")\n",
    "class p2:\n",
    "    def __init__(self):\n",
    "        print(\"P2 class constructor\")\n",
    "class p3(p2,p1):\n",
    "    pass\n",
    "\n",
    "p=p3()\n"
   ]
  },
  {
   "cell_type": "code",
   "execution_count": 8,
   "id": "0cd81645",
   "metadata": {},
   "outputs": [
    {
     "name": "stdout",
     "output_type": "stream",
     "text": [
      "Parent class constructor\n",
      "Child class constructor\n"
     ]
    }
   ],
   "source": [
    "class base:\n",
    "    def __init__(self):\n",
    "        print(\"Parent class constructor\")\n",
    "class derived(base):\n",
    "    def __init__(self):\n",
    "        super().__init__()\n",
    "        print(\"Child class constructor\")\n",
    "d1=derived()"
   ]
  },
  {
   "cell_type": "code",
   "execution_count": 9,
   "id": "53927b4f",
   "metadata": {},
   "outputs": [
    {
     "name": "stdout",
     "output_type": "stream",
     "text": [
      "I am a Teacher\n"
     ]
    }
   ],
   "source": [
    "class person:\n",
    "    def role(self):\n",
    "        print(\"I am kumar\")\n",
    "class Teacher(A):\n",
    "    def role(self):\n",
    "        print(\"I am a Teacher\")\n",
    "        \n",
    "t1=Teacher()\n",
    "t1.role()\n"
   ]
  },
  {
   "cell_type": "code",
   "execution_count": 19,
   "id": "35fd4444",
   "metadata": {},
   "outputs": [
    {
     "name": "stdout",
     "output_type": "stream",
     "text": [
      "Bank in India:\n",
      "SBI\n",
      "PNB\n",
      "OBC\n",
      "Rate in SBI:4.5\n"
     ]
    }
   ],
   "source": [
    "from abc import ABC, abstractmethod\n",
    "class Bank(ABC):\n",
    "    @abstractmethod \n",
    "    def rate(self):\n",
    "        pass\n",
    "    def details(self):\n",
    "        banklist=['SBI','PNB','OBC']\n",
    "        print(\"Bank in India:\")\n",
    "        for i in banklist:\n",
    "            print(\"{}\".format(i))\n",
    "class SBI(Bank):\n",
    "    def rate(self):\n",
    "        return 4.5\n",
    "s1=SBI()\n",
    "s1.details()\n",
    "print(\"Rate in SBI:{}\".format(s1.rate()))\n",
    "    "
   ]
  },
  {
   "cell_type": "code",
   "execution_count": 21,
   "id": "2f8375d8",
   "metadata": {},
   "outputs": [
    {
     "name": "stdout",
     "output_type": "stream",
     "text": [
      "I am a student\n",
      "I am a player\n"
     ]
    }
   ],
   "source": [
    "# use of super() to call base class method in derived class in case of overriding\n",
    "class person:\n",
    "    def role(self):\n",
    "        print(\"I am a student\")\n",
    "class student(person):\n",
    "    def role(self):\n",
    "        super().role()\n",
    "        print(\"I am a player\")\n",
    "s1=student()\n",
    "s1.role()"
   ]
  }
 ],
 "metadata": {
  "kernelspec": {
   "display_name": "Python 3 (ipykernel)",
   "language": "python",
   "name": "python3"
  },
  "language_info": {
   "codemirror_mode": {
    "name": "ipython",
    "version": 3
   },
   "file_extension": ".py",
   "mimetype": "text/x-python",
   "name": "python",
   "nbconvert_exporter": "python",
   "pygments_lexer": "ipython3",
   "version": "3.10.5"
  }
 },
 "nbformat": 4,
 "nbformat_minor": 5
}
