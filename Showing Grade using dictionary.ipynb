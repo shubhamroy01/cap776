{
 "cells": [
  {
   "cell_type": "code",
   "execution_count": 2,
   "id": "3db949f2",
   "metadata": {},
   "outputs": [
    {
     "name": "stdout",
     "output_type": "stream",
     "text": [
      "{11210112: 'A+', 11210113: 'A+', 11210114: 'O'}\n"
     ]
    }
   ],
   "source": [
    "\"\"\"\n",
    "Suppose there is two different types of dictionary, one dictionary contains registration number and name of student and another dictionary contains\n",
    "registration number and marks. Take 5 student details. Now display the student's result in terms of grade from the following condition:\n",
    "If marks between 90 to 100:grade'O'\n",
    "marks between 80 to 90:grade'A+'\n",
    "marks between 70 to 80:grade'A'\n",
    "marks between 60 to 70:grade'B+'\n",
    "marks between 50 to 60:grade'B'\n",
    "Display result in the form of dictionary.\n",
    "\"\"\"\n",
    "dict1={11210112:'Rohan',11210113:'Mohan',11210114:'Mandeep'}\n",
    "dict2={11210112:85,11210113:88,11210114:90}\n",
    "dict3={}\n",
    "for keys in dict1.keys():\n",
    "    marks=dict2.get(keys)\n",
    "    if marks>=90 and marks<=100:\n",
    "        dict3[keys]='O'\n",
    "       \n",
    "    if marks>=80 and marks<90:\n",
    "        dict3[keys]='A+'\n",
    "        \n",
    "    if marks>=70 and marks<80:\n",
    "        dict3[keys]='A'\n",
    "        \n",
    "    if marks>=60 and marks<70:\n",
    "        dict3[keys]='B+'\n",
    "       \n",
    "print(dict3)"
   ]
  },
  {
   "cell_type": "code",
   "execution_count": null,
   "id": "6ef350b4",
   "metadata": {},
   "outputs": [],
   "source": []
  }
 ],
 "metadata": {
  "kernelspec": {
   "display_name": "Python 3 (ipykernel)",
   "language": "python",
   "name": "python3"
  },
  "language_info": {
   "codemirror_mode": {
    "name": "ipython",
    "version": 3
   },
   "file_extension": ".py",
   "mimetype": "text/x-python",
   "name": "python",
   "nbconvert_exporter": "python",
   "pygments_lexer": "ipython3",
   "version": "3.10.5"
  }
 },
 "nbformat": 4,
 "nbformat_minor": 5
}
